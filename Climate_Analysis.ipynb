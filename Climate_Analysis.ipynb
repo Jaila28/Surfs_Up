{
 "cells": [
  {
   "cell_type": "code",
   "execution_count": 1,
   "id": "aa7acb1e",
   "metadata": {},
   "outputs": [],
   "source": [
    "%matplotlib inline\n",
    "from matplotlib import style\n",
    "style.use('fivethirtyeight')\n",
    "import matplotlib.pyplot as plt"
   ]
  },
  {
   "cell_type": "code",
   "execution_count": 4,
   "id": "79860cc0",
   "metadata": {},
   "outputs": [],
   "source": [
    "import numpy as np\n",
    "import pandas as pd"
   ]
  },
  {
   "cell_type": "code",
   "execution_count": 5,
   "id": "3baa5812",
   "metadata": {},
   "outputs": [],
   "source": [
    "import datetime as dt\n"
   ]
  },
  {
   "cell_type": "code",
   "execution_count": 8,
   "id": "7df7b679",
   "metadata": {},
   "outputs": [],
   "source": [
    "# Python SQL toolkit and Object Relational Mapper\n",
    "import sqlalchemy\n",
    "from sqlalchemy.ext.automap import automap_base\n",
    "from sqlalchemy.orm import Session\n",
    "from sqlalchemy import create_engine, func\n",
    "\n",
    "#ORM allows you to create classes in your code that can be mapped to specific tables given in a database.\n",
    "#It allows us to create a special type of system called a decoupled system.\n",
    "#This also prevents our entire code from breaking because it reduces the number of relationships between coding components.\n",
    "#With ORM, our references will be to classes in the code instead of specific tables in the database."
   ]
  },
  {
   "cell_type": "code",
   "execution_count": 9,
   "id": "29c1ea46",
   "metadata": {},
   "outputs": [],
   "source": [
    "#Connect to the SQLite database by using the create_engine() function.\n",
    "#The function doesn't actually connect to the database; it just prepares the database files to be connected later on.\n",
    "engine = create_engine(\"sqlite:///hawaii.sqlite\")"
   ]
  },
  {
   "cell_type": "code",
   "execution_count": 12,
   "id": "82397eb5",
   "metadata": {},
   "outputs": [],
   "source": [
    "#Reflect an existing database into a new model\n",
    "#Reflecting a database into a new model means to transfer the contents of the database into a different structure of data.\n",
    "#Automap Base creates a base class for an automap schema in SQLAlchemy. It sets up a foundation for the code to be built upon.\n",
    "Base = automap_base()\n",
    "\n",
    "#Reflect the tables\n",
    "#This reflects the schema of the SQLite tables into the code and creates mappings.\n",
    "#Reflecting the table ensures that our code is separated that if other classes or systems want to interact with it,\n",
    "# they can interact with only specific subsets of data instead of the whole dataset.\n",
    "Base.prepare(engine, reflect=True)"
   ]
  },
  {
   "cell_type": "code",
   "execution_count": 13,
   "id": "f50ed2a0",
   "metadata": {},
   "outputs": [
    {
     "data": {
      "text/plain": [
       "['measurement', 'station']"
      ]
     },
     "execution_count": 13,
     "metadata": {},
     "output_type": "execute_result"
    }
   ],
   "source": [
    "# We can view all of the classes that automap found using the Bases.classes.keys() function\n",
    "#Base.classes gives us access to all classes\n",
    "#keys() references all the names of the classes\n",
    "Base.classes.keys()"
   ]
  },
  {
   "cell_type": "code",
   "execution_count": 15,
   "id": "6cd813ea",
   "metadata": {},
   "outputs": [],
   "source": [
    "Measurement = Base.classes.measurement\n",
    "Station = Base.classes.station\n"
   ]
  },
  {
   "cell_type": "code",
   "execution_count": 16,
   "id": "8e112cd9",
   "metadata": {},
   "outputs": [],
   "source": [
    "session = Session(engine)\n"
   ]
  },
  {
   "cell_type": "code",
   "execution_count": null,
   "id": "bc74da4e",
   "metadata": {},
   "outputs": [],
   "source": []
  }
 ],
 "metadata": {
  "kernelspec": {
   "display_name": "Python 3 (ipykernel)",
   "language": "python",
   "name": "python3"
  },
  "language_info": {
   "codemirror_mode": {
    "name": "ipython",
    "version": 3
   },
   "file_extension": ".py",
   "mimetype": "text/x-python",
   "name": "python",
   "nbconvert_exporter": "python",
   "pygments_lexer": "ipython3",
   "version": "3.7.11"
  }
 },
 "nbformat": 4,
 "nbformat_minor": 5
}
